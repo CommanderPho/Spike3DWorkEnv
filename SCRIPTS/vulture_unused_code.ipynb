{
 "cells": [
  {
   "cell_type": "code",
   "execution_count": 1,
   "metadata": {},
   "outputs": [],
   "source": [
    "import vulture # https://github.com/jendrikseipp/vulture\n",
    "# poetry add vulture\n"
   ]
  },
  {
   "cell_type": "code",
   "execution_count": null,
   "metadata": {},
   "outputs": [],
   "source": [
    "vulture."
   ]
  },
  {
   "cell_type": "code",
   "execution_count": null,
   "metadata": {},
   "outputs": [],
   "source": [
    "\n",
    "vulture pyPhoPlaceCellAnalysis\\src\\pyphoplacecellanalysis\n",
    "\n",
    "\n",
    " --min-confidence 100\n"
   ]
  },
  {
   "cell_type": "markdown",
   "metadata": {},
   "source": [
    "Add to `pyproject.toml` to allow specifying `vulture` defaults when no arguments are specified at the command line:\n",
    "\n",
    "```toml\n",
    "[tool.vulture]\n",
    "exclude = [\"pyPhoPlaceCellAnalysis/src/pyphoplacecellanalysis/External/\"]\n",
    "ignore_decorators = [\"@app.route\", \"@require_*\"]\n",
    "ignore_names = [\"visit_*\"]\n",
    "make_whitelist = true\n",
    "min_confidence = 100\n",
    "paths = [\"pyPhoPlaceCellAnalysis/src/pyphoplacecellanalysis\", \"pyPhoCoreHelpers/src/pyphocorehelpers\", \"NeuroPy/neuropy\"]\n",
    "sort_by_size = true\n",
    "verbose = false\n",
    "```\n",
    "\n"
   ]
  }
 ],
 "metadata": {
  "kernelspec": {
   "display_name": "spike3dworkenv-3PqgnqSS-py3.9",
   "language": "python",
   "name": "python3"
  },
  "language_info": {
   "codemirror_mode": {
    "name": "ipython",
    "version": 3
   },
   "file_extension": ".py",
   "mimetype": "text/x-python",
   "name": "python",
   "nbconvert_exporter": "python",
   "pygments_lexer": "ipython3",
   "version": "3.9.13"
  },
  "orig_nbformat": 4
 },
 "nbformat": 4,
 "nbformat_minor": 2
}
